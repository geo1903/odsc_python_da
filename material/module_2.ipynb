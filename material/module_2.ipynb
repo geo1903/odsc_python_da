{
 "cells": [
  {
   "cell_type": "markdown",
   "metadata": {},
   "source": [
    "## Introduction to Python for Data Analsyis\n",
    "\n",
    "### Module 2: Creating meaningful visualizations\n",
    "Duration: ~ 45'\n",
    "\n",
    "In this module, we will explore:\n"
   ]
  }
 ],
 "metadata": {
  "language_info": {
   "name": "python"
  },
  "orig_nbformat": 4
 },
 "nbformat": 4,
 "nbformat_minor": 2
}
