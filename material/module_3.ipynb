{
 "cells": [
  {
   "cell_type": "markdown",
   "metadata": {},
   "source": [
    "## Introduction to Python for Data Analsyis\n",
    "\n",
    "### Module 3: Performing statistical analysis\n",
    "Duration: ~ 45'\n",
    "\n",
    "In this module, we will explore:\n",
    "\n",
    "- How and why plots can be deceiving whwen used for statistical inference\n",
    "- How to perform tests for normality\n",
    "- How to check for statistical corerelation between:\n",
    "    - Numerical variable\n",
    "    - Categorical variables\n",
    "    - Numerical and categorical variables\n",
    "- How to run a logistic regression model with one or more predictors\n",
    "\n"
   ]
  },
  {
   "cell_type": "markdown",
   "metadata": {},
   "source": [
    "## Modules required\n",
    "To carry out statistical tests in Python, we will be using an external module called [SciPy](https://www.scipy.org/), and to perform statistical modelling we will use the `ols` function from the external module [statsmodels](https://www.statsmodels.org/stable/index.html).\n",
    "\n",
    "We will alias SciPy as `sp`, import the `ols` function from the `statsmodels.formula.api` module, and import numpy, pandas and plotnine using their usual aliases."
   ]
  },
  {
   "cell_type": "code",
   "execution_count": 1,
   "metadata": {},
   "outputs": [],
   "source": [
    "import scipy as sp\n",
    "from statsmodels.formula.api import ols\n",
    "import numpy as np\n",
    "import pandas as pd\n",
    "import plotnine as p9"
   ]
  },
  {
   "cell_type": "markdown",
   "metadata": {},
   "source": [
    "# Data\n",
    "To demonstrate the data analysis functionality of Python, we will use the METABRIC dataset one more time. *Some of the functions we will use do not handle missing data, so we will remove any rows for the dataset where data is missing.* \n",
    "\n",
    "As we saw in module 1, we can use the `describe()` method to generate summary statistics for this dataset:"
   ]
  },
  {
   "cell_type": "code",
   "execution_count": 2,
   "metadata": {},
   "outputs": [
    {
     "data": {
      "text/html": [
       "<div>\n",
       "<style scoped>\n",
       "    .dataframe tbody tr th:only-of-type {\n",
       "        vertical-align: middle;\n",
       "    }\n",
       "\n",
       "    .dataframe tbody tr th {\n",
       "        vertical-align: top;\n",
       "    }\n",
       "\n",
       "    .dataframe thead th {\n",
       "        text-align: right;\n",
       "    }\n",
       "</style>\n",
       "<table border=\"1\" class=\"dataframe\">\n",
       "  <thead>\n",
       "    <tr style=\"text-align: right;\">\n",
       "      <th></th>\n",
       "      <th>Cohort</th>\n",
       "      <th>Age_at_diagnosis</th>\n",
       "      <th>Survival_time</th>\n",
       "      <th>Tumour_size</th>\n",
       "      <th>Tumour_stage</th>\n",
       "      <th>Neoplasm_histologic_grade</th>\n",
       "      <th>Lymph_nodes_examined_positive</th>\n",
       "      <th>Lymph_node_status</th>\n",
       "      <th>Nottingham_prognostic_index</th>\n",
       "      <th>Mutation_count</th>\n",
       "      <th>ESR1</th>\n",
       "      <th>ERBB2</th>\n",
       "      <th>PGR</th>\n",
       "      <th>TP53</th>\n",
       "      <th>PIK3CA</th>\n",
       "      <th>GATA3</th>\n",
       "      <th>FOXA1</th>\n",
       "      <th>MLPH</th>\n",
       "    </tr>\n",
       "  </thead>\n",
       "  <tbody>\n",
       "    <tr>\n",
       "      <th>count</th>\n",
       "      <td>1121.000000</td>\n",
       "      <td>1121.000000</td>\n",
       "      <td>1121.000000</td>\n",
       "      <td>1121.000000</td>\n",
       "      <td>1121.000000</td>\n",
       "      <td>1121.000000</td>\n",
       "      <td>1121.000000</td>\n",
       "      <td>1121.000000</td>\n",
       "      <td>1121.000000</td>\n",
       "      <td>1121.000000</td>\n",
       "      <td>1121.000000</td>\n",
       "      <td>1121.000000</td>\n",
       "      <td>1121.000000</td>\n",
       "      <td>1121.000000</td>\n",
       "      <td>1121.000000</td>\n",
       "      <td>1121.000000</td>\n",
       "      <td>1121.000000</td>\n",
       "      <td>1121.000000</td>\n",
       "    </tr>\n",
       "    <tr>\n",
       "      <th>mean</th>\n",
       "      <td>2.207850</td>\n",
       "      <td>60.412721</td>\n",
       "      <td>126.239518</td>\n",
       "      <td>26.094112</td>\n",
       "      <td>1.756467</td>\n",
       "      <td>2.445138</td>\n",
       "      <td>1.873327</td>\n",
       "      <td>1.626227</td>\n",
       "      <td>4.123553</td>\n",
       "      <td>5.467440</td>\n",
       "      <td>9.600854</td>\n",
       "      <td>10.770958</td>\n",
       "      <td>6.238728</td>\n",
       "      <td>6.191980</td>\n",
       "      <td>5.950108</td>\n",
       "      <td>9.530585</td>\n",
       "      <td>10.839721</td>\n",
       "      <td>11.383495</td>\n",
       "    </tr>\n",
       "    <tr>\n",
       "      <th>std</th>\n",
       "      <td>0.956449</td>\n",
       "      <td>13.012218</td>\n",
       "      <td>77.295543</td>\n",
       "      <td>15.102221</td>\n",
       "      <td>0.622865</td>\n",
       "      <td>0.635888</td>\n",
       "      <td>3.830332</td>\n",
       "      <td>0.739443</td>\n",
       "      <td>1.059818</td>\n",
       "      <td>3.859249</td>\n",
       "      <td>2.093524</td>\n",
       "      <td>1.317631</td>\n",
       "      <td>1.020860</td>\n",
       "      <td>0.389334</td>\n",
       "      <td>0.310095</td>\n",
       "      <td>1.468576</td>\n",
       "      <td>1.687979</td>\n",
       "      <td>1.630174</td>\n",
       "    </tr>\n",
       "    <tr>\n",
       "      <th>min</th>\n",
       "      <td>1.000000</td>\n",
       "      <td>21.930000</td>\n",
       "      <td>0.100000</td>\n",
       "      <td>1.000000</td>\n",
       "      <td>1.000000</td>\n",
       "      <td>1.000000</td>\n",
       "      <td>0.000000</td>\n",
       "      <td>1.000000</td>\n",
       "      <td>2.002000</td>\n",
       "      <td>1.000000</td>\n",
       "      <td>5.217238</td>\n",
       "      <td>7.281883</td>\n",
       "      <td>4.945672</td>\n",
       "      <td>5.225320</td>\n",
       "      <td>5.158697</td>\n",
       "      <td>5.401414</td>\n",
       "      <td>5.289602</td>\n",
       "      <td>5.323652</td>\n",
       "    </tr>\n",
       "    <tr>\n",
       "      <th>25%</th>\n",
       "      <td>1.000000</td>\n",
       "      <td>50.820000</td>\n",
       "      <td>60.133333</td>\n",
       "      <td>17.000000</td>\n",
       "      <td>1.000000</td>\n",
       "      <td>2.000000</td>\n",
       "      <td>0.000000</td>\n",
       "      <td>1.000000</td>\n",
       "      <td>3.052000</td>\n",
       "      <td>3.000000</td>\n",
       "      <td>8.205776</td>\n",
       "      <td>9.981831</td>\n",
       "      <td>5.422349</td>\n",
       "      <td>5.936286</td>\n",
       "      <td>5.730861</td>\n",
       "      <td>8.809316</td>\n",
       "      <td>10.878608</td>\n",
       "      <td>11.071585</td>\n",
       "    </tr>\n",
       "    <tr>\n",
       "      <th>50%</th>\n",
       "      <td>2.000000</td>\n",
       "      <td>60.930000</td>\n",
       "      <td>116.433333</td>\n",
       "      <td>22.000000</td>\n",
       "      <td>2.000000</td>\n",
       "      <td>3.000000</td>\n",
       "      <td>0.000000</td>\n",
       "      <td>1.000000</td>\n",
       "      <td>4.046000</td>\n",
       "      <td>5.000000</td>\n",
       "      <td>10.220349</td>\n",
       "      <td>10.532638</td>\n",
       "      <td>5.864217</td>\n",
       "      <td>6.176018</td>\n",
       "      <td>5.931565</td>\n",
       "      <td>9.917441</td>\n",
       "      <td>11.365047</td>\n",
       "      <td>11.857401</td>\n",
       "    </tr>\n",
       "    <tr>\n",
       "      <th>75%</th>\n",
       "      <td>3.000000</td>\n",
       "      <td>69.700000</td>\n",
       "      <td>188.733333</td>\n",
       "      <td>30.000000</td>\n",
       "      <td>2.000000</td>\n",
       "      <td>3.000000</td>\n",
       "      <td>2.000000</td>\n",
       "      <td>2.000000</td>\n",
       "      <td>5.046000</td>\n",
       "      <td>7.000000</td>\n",
       "      <td>11.202333</td>\n",
       "      <td>11.149977</td>\n",
       "      <td>6.902124</td>\n",
       "      <td>6.439989</td>\n",
       "      <td>6.134401</td>\n",
       "      <td>10.554370</td>\n",
       "      <td>11.749098</td>\n",
       "      <td>12.374549</td>\n",
       "    </tr>\n",
       "    <tr>\n",
       "      <th>max</th>\n",
       "      <td>5.000000</td>\n",
       "      <td>96.290000</td>\n",
       "      <td>337.033333</td>\n",
       "      <td>180.000000</td>\n",
       "      <td>4.000000</td>\n",
       "      <td>3.000000</td>\n",
       "      <td>41.000000</td>\n",
       "      <td>3.000000</td>\n",
       "      <td>6.360000</td>\n",
       "      <td>46.000000</td>\n",
       "      <td>13.265184</td>\n",
       "      <td>14.643900</td>\n",
       "      <td>9.932115</td>\n",
       "      <td>7.769900</td>\n",
       "      <td>8.708396</td>\n",
       "      <td>12.812082</td>\n",
       "      <td>13.127682</td>\n",
       "      <td>14.432001</td>\n",
       "    </tr>\n",
       "  </tbody>\n",
       "</table>\n",
       "</div>"
      ],
      "text/plain": [
       "            Cohort  Age_at_diagnosis  Survival_time  Tumour_size  \\\n",
       "count  1121.000000       1121.000000    1121.000000  1121.000000   \n",
       "mean      2.207850         60.412721     126.239518    26.094112   \n",
       "std       0.956449         13.012218      77.295543    15.102221   \n",
       "min       1.000000         21.930000       0.100000     1.000000   \n",
       "25%       1.000000         50.820000      60.133333    17.000000   \n",
       "50%       2.000000         60.930000     116.433333    22.000000   \n",
       "75%       3.000000         69.700000     188.733333    30.000000   \n",
       "max       5.000000         96.290000     337.033333   180.000000   \n",
       "\n",
       "       Tumour_stage  Neoplasm_histologic_grade  Lymph_nodes_examined_positive  \\\n",
       "count   1121.000000                1121.000000                    1121.000000   \n",
       "mean       1.756467                   2.445138                       1.873327   \n",
       "std        0.622865                   0.635888                       3.830332   \n",
       "min        1.000000                   1.000000                       0.000000   \n",
       "25%        1.000000                   2.000000                       0.000000   \n",
       "50%        2.000000                   3.000000                       0.000000   \n",
       "75%        2.000000                   3.000000                       2.000000   \n",
       "max        4.000000                   3.000000                      41.000000   \n",
       "\n",
       "       Lymph_node_status  Nottingham_prognostic_index  Mutation_count  \\\n",
       "count        1121.000000                  1121.000000     1121.000000   \n",
       "mean            1.626227                     4.123553        5.467440   \n",
       "std             0.739443                     1.059818        3.859249   \n",
       "min             1.000000                     2.002000        1.000000   \n",
       "25%             1.000000                     3.052000        3.000000   \n",
       "50%             1.000000                     4.046000        5.000000   \n",
       "75%             2.000000                     5.046000        7.000000   \n",
       "max             3.000000                     6.360000       46.000000   \n",
       "\n",
       "              ESR1        ERBB2          PGR         TP53       PIK3CA  \\\n",
       "count  1121.000000  1121.000000  1121.000000  1121.000000  1121.000000   \n",
       "mean      9.600854    10.770958     6.238728     6.191980     5.950108   \n",
       "std       2.093524     1.317631     1.020860     0.389334     0.310095   \n",
       "min       5.217238     7.281883     4.945672     5.225320     5.158697   \n",
       "25%       8.205776     9.981831     5.422349     5.936286     5.730861   \n",
       "50%      10.220349    10.532638     5.864217     6.176018     5.931565   \n",
       "75%      11.202333    11.149977     6.902124     6.439989     6.134401   \n",
       "max      13.265184    14.643900     9.932115     7.769900     8.708396   \n",
       "\n",
       "             GATA3        FOXA1         MLPH  \n",
       "count  1121.000000  1121.000000  1121.000000  \n",
       "mean      9.530585    10.839721    11.383495  \n",
       "std       1.468576     1.687979     1.630174  \n",
       "min       5.401414     5.289602     5.323652  \n",
       "25%       8.809316    10.878608    11.071585  \n",
       "50%       9.917441    11.365047    11.857401  \n",
       "75%      10.554370    11.749098    12.374549  \n",
       "max      12.812082    13.127682    14.432001  "
      ]
     },
     "execution_count": 2,
     "metadata": {},
     "output_type": "execute_result"
    }
   ],
   "source": [
    "metabric = pd.read_csv(\"../data/metabric_clinical_and_expression_data.csv\").dropna()\n",
    "metabric.describe()"
   ]
  },
  {
   "cell_type": "code",
   "execution_count": null,
   "metadata": {},
   "outputs": [],
   "source": [
    "metabric = pd.read_csv(\"../data/metabric_clinical_and_expression_data.csv\").dropna()\n",
    "metabric.describe()"
   ]
  },
  {
   "cell_type": "markdown",
   "metadata": {},
   "source": [
    "# Statistical tests"
   ]
  },
  {
   "cell_type": "markdown",
   "metadata": {},
   "source": [
    "## Tests for normality\n",
    "When we are deciding which statistical test to use in our analysis, we often need to work out whether the data follows a normal distribution or not, as some tests (e.g. t-test) assume that our data are normally distributed. We can test whether a dataset follows a normal distribution by using the Kolmogorov-Smirnov test. For example, the age at diagnosis looks like it could be normally distributed:"
   ]
  },
  {
   "cell_type": "code",
   "execution_count": 3,
   "metadata": {},
   "outputs": [
    {
     "name": "stderr",
     "output_type": "stream",
     "text": [
      "/Users/leosouliotis/Documents/ODSC/.venv/lib/python3.9/site-packages/plotnine/stats/stat_bin.py:95: PlotnineWarning: 'stat_bin()' using 'bins = 21'. Pick better value with 'binwidth'.\n"
     ]
    },
    {
     "data": {
      "image/png": "[encoded data removed]",
      "text/plain": [
       "<Figure size 432x288 with 1 Axes>"
      ]
     },
     "metadata": {},
     "output_type": "display_data"
    },
    {
     "data": {
      "text/plain": [
       "<ggplot: (674958355)>"
      ]
     },
     "execution_count": 3,
     "metadata": {},
     "output_type": "execute_result"
    }
   ],
   "source": [
    "(\n",
    "p9.ggplot(metabric, p9.aes(\"Age_at_diagnosis\"))\n",
    "    + p9.geom_histogram()\n",
    ")"
   ]
  },
  {
   "cell_type": "markdown",
   "metadata": {},
   "source": [
    "To run the Kolmogorov-Smirnov test, we use the `kstest()` function from the scipy stats module:"
   ]
  },
  {
   "cell_type": "code",
   "execution_count": 4,
   "metadata": {},
   "outputs": [
    {
     "data": {
      "text/plain": [
       "KstestResult(statistic=1.0, pvalue=0.0)"
      ]
     },
     "execution_count": 4,
     "metadata": {},
     "output_type": "execute_result"
    }
   ],
   "source": [
    "sp.stats.kstest(metabric[\"Age_at_diagnosis\"], \"norm\")"
   ]
  },
  {
   "cell_type": "markdown",
   "metadata": {},
   "source": [
    "The Kolmogorov-Smirnov test has a p value below 0.05, indicating that we can reject the null hypothesis that there is no difference between this distribution and a normal distribution. In other words, the distribution appears non-normal."
   ]
  },
  {
   "cell_type": "markdown",
   "metadata": {},
   "source": [
    "In SciPy, the results of most tests are returned as an object. When printed directly to screen this is not very pretty and hard to interpret,  as we can see above. When running the test, we can assign the results object to a variable, and then access the attributes of the results object to print the results in a clearer format:"
   ]
  },
  {
   "cell_type": "code",
   "execution_count": 5,
   "metadata": {},
   "outputs": [
    {
     "name": "stdout",
     "output_type": "stream",
     "text": [
      "Age at diagnosis Kolmogorov-Smirnov test:\n",
      "p value = 0.0\n",
      "Statsitic = 1.0\n"
     ]
    }
   ],
   "source": [
    "# run the test and assign the result to a variable\n",
    "age_diagnosis_ks = sp.stats.kstest(metabric[\"Age_at_diagnosis\"], \"norm\")\n",
    "# print the results by retrieving attributes from the result object \n",
    "print(\"Age at diagnosis Kolmogorov-Smirnov test:\")\n",
    "print(\"p value = {}\".format(age_diagnosis_ks.pvalue))\n",
    "print(\"Statsitic = {}\".format(age_diagnosis_ks.statistic))"
   ]
  },
  {
   "cell_type": "code",
   "execution_count": null,
   "metadata": {},
   "outputs": [],
   "source": [
    "# run the test and assign the result to a variable\n",
    "age_diagnosis_ks = sp.stats.kstest(metabric[\"Age_at_diagnosis\"], \"norm\")\n",
    "# print the results by retrieving attributes from the result object \n",
    "print(\"Age at diagnosis Kolmogorov-Smirnov test:\")\n",
    "print(\"p value = {}\".format(age_diagnosis_ks.pvalue))\n",
    "print(\"Statsitic = {}\".format(age_diagnosis_ks.statistic))"
   ]
  },
  {
   "cell_type": "markdown",
   "metadata": {},
   "source": [
    "## Correlation\n",
    "We often want to test whether two continuous variables are related to each other, and we can do this by calculating a correlation. For example, there appears to be a relationship between the expression of the ESR1 gene and the GATA3 gene:"
   ]
  },
  {
   "cell_type": "code",
   "execution_count": null,
   "metadata": {},
   "outputs": [],
   "source": [
    "(\n",
    "p9.ggplot(metabric, p9.aes(\"ESR1\", \"GATA3\"))\n",
    "    + p9.geom_point()\n",
    ")"
   ]
  },
  {
   "cell_type": "markdown",
   "metadata": {},
   "source": [
    "For normally distributed data, we can calculate the Pearson's correlation using the `pearsonr()` function. `pearsonr()` returns the results as a tuple rather than an object, so we need to access the coefficient and p value using indexing:"
   ]
  },
  {
   "cell_type": "code",
   "execution_count": null,
   "metadata": {},
   "outputs": [],
   "source": [
    "ESR1_GATA3_pearson = sp.stats.pearsonr(metabric[\"ESR1\"], metabric[\"GATA3\"])\n",
    "print(\"Pearson correlation between ESR1 & GATA3:\")\n",
    "print(\"coefficient = {}\".format(ESR1_GATA3_pearson[0]))\n",
    "print(\"p value = {}\".format(ESR1_GATA3_pearson[1]))"
   ]
  },
  {
   "cell_type": "markdown",
   "metadata": {},
   "source": [
    "For data that is not normally distributed, we can calculate the Spearman rank correlation. For example, a scatter plot of tumour size versus mutation count suggests that these are not normally distributed:"
   ]
  },
  {
   "cell_type": "code",
   "execution_count": null,
   "metadata": {},
   "outputs": [],
   "source": [
    "(\n",
    "p9.ggplot(metabric, p9.aes(\"Tumour_size\", \"Mutation_count\"))\n",
    "    + p9.geom_point()\n",
    ")"
   ]
  },
  {
   "cell_type": "markdown",
   "metadata": {},
   "source": [
    "We can calculate the Spearman rank correlation using the `spearmanr()` function, again accessing the results using indexing:"
   ]
  },
  {
   "cell_type": "code",
   "execution_count": null,
   "metadata": {},
   "outputs": [],
   "source": [
    "size_mutation_spearman = sp.stats.spearmanr(metabric[\"Tumour_size\"], metabric[\"Mutation_count\"])\n",
    "print(\"Spearman rank correlation between tumour size and mutation count:\")\n",
    "print(\"coefficient = {}\".format(size_mutation_spearman[0]))\n",
    "print(\"p value = {}\".format(size_mutation_spearman[1]))"
   ]
  },
  {
   "cell_type": "markdown",
   "metadata": {},
   "source": [
    "## T-test\n",
    "To test whether the mean value of a continuous variable is significantly different between two different groups, we can use the t-test for normally distributed data. For example, age at diagnosis appears to be lower for ER-negative tumours compared with ER-positive tumours:"
   ]
  },
  {
   "cell_type": "code",
   "execution_count": null,
   "metadata": {},
   "outputs": [],
   "source": [
    "(\n",
    "p9.ggplot(metabric, p9.aes(\"ER_status\", \"Age_at_diagnosis\"))\n",
    "    + p9.geom_violin()\n",
    ")"
   ]
  },
  {
   "cell_type": "markdown",
   "metadata": {},
   "source": [
    "We can use the `ttest_ind()` function to carry out the t-test, which confirms that we can reject the null hypothesis that age at diagnosis is not different between ER positive and negative tumours. Note that `ttest_ind()` takes two arguments, which are the values of the two groups. Rather than extracting these values and assigning them to separate variables, we can do the data extraction within the function call:"
   ]
  },
  {
   "cell_type": "code",
   "execution_count": null,
   "metadata": {},
   "outputs": [],
   "source": [
    "ER_age_t = sp.stats.ttest_ind(\n",
    "    # select samples with Negative ER_status and extract the Age_at_diagnosis values\n",
    "    metabric[metabric[\"ER_status\"]==\"Negative\"][\"Age_at_diagnosis\"],\n",
    "    # select samples with Positive ER_status and extract the Age_at_diagnosis values\n",
    "    metabric[metabric[\"ER_status\"]==\"Positive\"][\"Age_at_diagnosis\"]\n",
    ")\n",
    "print(\"t test of age at diagnosis for ER_status Negative vs Positive:\")\n",
    "print(\"t = {}\".format(ER_age_t.statistic))\n",
    "print(\"p = {}\".format(ER_age_t.pvalue))"
   ]
  },
  {
   "cell_type": "markdown",
   "metadata": {},
   "source": [
    "If we have data that is not normally distributed we may want to use the Mann-Whitney U test, also known as the Wilcoxon rank-sum test, which is the non-parametric equivalent of the t-test. For example, survival time does not follow a normal distribution, but it still appears to be different between ER positive and ER negative tumours:"
   ]
  },
  {
   "cell_type": "code",
   "execution_count": null,
   "metadata": {},
   "outputs": [],
   "source": [
    "(\n",
    "p9.ggplot(metabric, p9.aes(\"ER_status\", \"Survival_time\"))\n",
    "    + p9.geom_violin()\n",
    ")"
   ]
  },
  {
   "cell_type": "markdown",
   "metadata": {},
   "source": [
    "We can use the `mannwhitneyu()` function to run the Mann-Whitney U test, which confirms that we can reject the null hypothesis that age at diagnosis is not different between ER positive and negative tumours. Again, we are subsetting and selecting the data within the function call:"
   ]
  },
  {
   "cell_type": "code",
   "execution_count": null,
   "metadata": {},
   "outputs": [],
   "source": [
    "ER_survival_MWU = sp.stats.mannwhitneyu(\n",
    "    # select samples with Negative ER_status and extract the Age_at_diagnosis values\n",
    "    metabric[metabric[\"ER_status\"]==\"Negative\"][\"Age_at_diagnosis\"],\n",
    "    # select samples with Positive ER_status and extract the Age_at_diagnosis values\n",
    "    metabric[metabric[\"ER_status\"]==\"Positive\"][\"Age_at_diagnosis\"]\n",
    ")\n",
    "print(\"Mann-Whitney U test of survival time for ER_status Negative vs Positive:\")\n",
    "print(\"f = {}\".format(ER_survival_MWU.statistic))\n",
    "print(\"p = {}\".format(ER_age_t.pvalue))"
   ]
  },
  {
   "cell_type": "markdown",
   "metadata": {},
   "source": [
    "## ANOVA\n",
    "If we want to test for a difference in the mean value of a continuous variable between >2 groups simultaneously, we can use the analysis of variance (ANOVA). For example, we may want to test for differences between survival times between different cancer types, which appear to be different:"
   ]
  },
  {
   "cell_type": "code",
   "execution_count": null,
   "metadata": {},
   "outputs": [],
   "source": [
    "(\n",
    "p9.ggplot(metabric, p9.aes(\"Cancer_type\", \"Survival_time\"))\n",
    "    + p9.geom_boxplot()\n",
    "    + p9.theme(axis_text_x = p9.element_text(angle=45, hjust=1))\n",
    ")"
   ]
  },
  {
   "cell_type": "markdown",
   "metadata": {},
   "source": [
    "We can use the `f_oneway()` function to run ANOVA, which shows that we cannot reject the null hypothesis that there is no difference in survival time between cancer types:"
   ]
  },
  {
   "cell_type": "code",
   "execution_count": null,
   "metadata": {},
   "outputs": [],
   "source": [
    "type_survival_anova = sp.stats.f_oneway(\n",
    "    # select samples with Breast cancer and extract the Survival_time values\n",
    "    metabric[metabric[\"Cancer_type\"]==\"Breast\"][\"Survival_time\"],\n",
    "    # select samples with Breast cancer and extract the Survival_time values\n",
    "    metabric[metabric[\"Cancer_type\"]==\"Breast Invasive Ductal Carcinoma\"][\"Survival_time\"],\n",
    "    # select samples with Breast cancer and extract the Survival_time values\n",
    "    metabric[metabric[\"Cancer_type\"]==\"Breast Invasive Lobular Carcinoma\"][\"Survival_time\"]\n",
    ")\n",
    "print(\"ANOVA of survival time for different cancer types:\")\n",
    "print(\"f = {}\".format(type_survival_anova.statistic))\n",
    "print(\"p = {}\".format(type_survival_anova.pvalue))"
   ]
  },
  {
   "cell_type": "markdown",
   "metadata": {},
   "source": [
    "Similar to the t-test, the ANOVA method achieves optimal results when **all** groups are normally distributed. The non-paramteric equivalent of the ANOVA is the Kruskal-Wallis test, and we can call it via the `kruskal` function. It is easy to implement and very similar to how ANOVA is implemented."
   ]
  },
  {
   "cell_type": "code",
   "execution_count": null,
   "metadata": {},
   "outputs": [],
   "source": [
    "type_survival_anova = sp.stats.kruskal(\n",
    "    # select samples with Breast cancer and extract the Survival_time values\n",
    "    metabric[metabric[\"Cancer_type\"]==\"Breast\"][\"Survival_time\"],\n",
    "    # select samples with Breast cancer and extract the Survival_time values\n",
    "    metabric[metabric[\"Cancer_type\"]==\"Breast Invasive Ductal Carcinoma\"][\"Survival_time\"],\n",
    "    # select samples with Breast cancer and extract the Survival_time values\n",
    "    metabric[metabric[\"Cancer_type\"]==\"Breast Invasive Lobular Carcinoma\"][\"Survival_time\"]\n",
    ")\n",
    "print(\"Kruskal-Wallis test for survival time for different cancer types:\")\n",
    "print(\"f = {}\".format(type_survival_anova.statistic))\n",
    "print(\"p = {}\".format(type_survival_anova.pvalue))"
   ]
  },
  {
   "cell_type": "markdown",
   "metadata": {},
   "source": [
    "## Chi-square test\n",
    "If we have two categorical variables of interest, and we want to test whether the status of one variable is linked to the status of the other, we can use the chi-square test. For example, we may want to test whether the ER status of a tumour (Positive or Negative) is linked to the PR status (Positive or Negative). First, we need to format the data into a contingency table, containing counts of positive and negative values for ER and PR:"
   ]
  },
  {
   "cell_type": "code",
   "execution_count": null,
   "metadata": {},
   "outputs": [],
   "source": [
    "# use the crosstab function to make a contingency table of the total numbers of patients that are ER+ & PR+, ER+ & PR-, ER- & PR+, and ER- & PR-\n",
    "ER_PR_contingency = pd.crosstab(metabric[\"ER_status\"], metabric[\"PR_status\"])\n",
    "ER_PR_contingency"
   ]
  },
  {
   "cell_type": "markdown",
   "metadata": {},
   "source": [
    "Now, we use the `chi2_contingency()` function to run the chi-square test, and assign the results to a variable. This shows that we can reject the null hypothesis that ER and PR status are independent. The results are returned as a tuple rather than an object, so we retrieve them by using indexing:"
   ]
  },
  {
   "cell_type": "code",
   "execution_count": null,
   "metadata": {},
   "outputs": [],
   "source": [
    "ER_PR_chi = sp.stats.chi2_contingency(ER_PR_contingency)\n",
    "print(\"Chi-square test for ER and PR status:\")\n",
    "print(\"Chi-square value = {}\".format(ER_PR_chi[0]))\n",
    "print(\"p value = {}\".format(ER_PR_chi[1]))"
   ]
  },
  {
   "cell_type": "markdown",
   "metadata": {},
   "source": [
    "# Data Transformation\n",
    "When working with large datasets, we often have variables with very different ranges and distributions of values. For some analyses, particularly statistical modelling, it is helpful to be able to apply a mathematical transformation to a set of values, which rescales the values and makes their distribution and range more similar to other variables in the dataset. For example, in the Metabric dataset the distribution of tumour sizes is highly left-skewed, as most tumours are small but a few are very large:"
   ]
  },
  {
   "cell_type": "code",
   "execution_count": null,
   "metadata": {},
   "outputs": [],
   "source": [
    "(\n",
    "p9.ggplot(metabric, p9.aes(\"Tumour_size\"))\n",
    "    + p9.geom_histogram()\n",
    ")"
   ]
  },
  {
   "cell_type": "markdown",
   "metadata": {},
   "source": [
    "To perform transformations on this data, we can use some functions from numpy:\n",
    "- `sqrt()` = square-root transform\n",
    "- `log2()` = log-transform with base 2\n",
    "- `log10()` = log-transform with base 10\n",
    "\n",
    "All of these functions return a pandas series of transformed values. To retain the original (untransformed) data, we can add these transformed values to the metabric dataframe as a new column:"
   ]
  },
  {
   "cell_type": "code",
   "execution_count": null,
   "metadata": {},
   "outputs": [],
   "source": [
    "metabric[\"Tumour_size_sqrt\"] = np.sqrt(metabric[\"Tumour_size\"])\n",
    "metabric[\"Tumour_size_log2\"] = np.log2(metabric[\"Tumour_size\"])\n",
    "metabric[\"Tumour_size_log10\"] = np.log10(metabric[\"Tumour_size\"])"
   ]
  },
  {
   "cell_type": "markdown",
   "metadata": {},
   "source": [
    "After transformation, the tumour sizes look closer to being normally distributed:"
   ]
  },
  {
   "cell_type": "code",
   "execution_count": null,
   "metadata": {},
   "outputs": [],
   "source": [
    "# select the variables of interest\n",
    "tumour_size_tranformations = metabric.loc[:,[\"Patient_ID\", \"Tumour_size\", \"Tumour_size_sqrt\", \"Tumour_size_log2\", \"Tumour_size_log10\"]]\n",
    "# rename the columns for ease of plotting\n",
    "tumour_size_tranformations.columns = [\"Patient_ID\", \"Untransformed\", \"sqrt\", \"log2\", \"log10\"]\n",
    "# reformat the untransformed and transformed data into three columns ahead of plotting\n",
    "tumour_size_tranformations = pd.melt(tumour_size_tranformations, id_vars=\"Patient_ID\", var_name=\"Transformation\", value_name=\"Size\")\n",
    "# plot faceted histogram\n",
    "(\n",
    "p9.ggplot(tumour_size_tranformations, p9.aes(\"Size\"))\n",
    "    + p9.facet_wrap(\"~Transformation\", nrow=2, scales=\"free\")\n",
    "    + p9.geom_histogram(bins=50)\n",
    ")"
   ]
  },
  {
   "cell_type": "markdown",
   "metadata": {},
   "source": [
    "# Modelling"
   ]
  },
  {
   "cell_type": "markdown",
   "metadata": {},
   "source": [
    "## Simple linear regression\n",
    "If we have a continuous variable, and we want to model its relationship with another variable, we can use simple linear regression. In linear regression we call the variable of interest the **response**, and the other variable the **predictor**. The mathematical details of linear regression are beyond the scope of this course, but in the case of simple linear regression it basically amounts to fitting a line through the data that is closest to all of the points. For example, we may want to predict survival time based on tumour size, because survival time appears to differ across the range of tumour sizes:"
   ]
  },
  {
   "cell_type": "code",
   "execution_count": null,
   "metadata": {},
   "outputs": [],
   "source": [
    "(\n",
    "p9.ggplot(metabric, p9.aes(\"Tumour_size\", \"Survival_time\"))\n",
    "    + p9.geom_point()\n",
    ")"
   ]
  },
  {
   "cell_type": "markdown",
   "metadata": {},
   "source": [
    "In Python, we can run simple linear regression using the `ols` function from the `statsmodels` package. There are three steps to completing this analysis:\n",
    "1. **Instantiate** the model: create an object that holds the model specification and the input dataset. In the model specification, the response is to the left of the tilda `~` and the predictor is to the right\n",
    "2. **Fit** the model: fit the specified model to the data using the `fit()` function, and assign the results object to a variable\n",
    "3. **Display** the results: use the `summary()` method of the results object to return a detailed breakdown of the model characteristics"
   ]
  },
  {
   "cell_type": "code",
   "execution_count": null,
   "metadata": {},
   "outputs": [],
   "source": [
    "# instantiate model\n",
    "simple_model = ols(\"Survival_time~Tumour_size\", data=metabric)\n",
    "# fit the model\n",
    "simple_results = simple_model.fit()\n",
    "# display the results\n",
    "simple_results.summary()"
   ]
  },
  {
   "cell_type": "markdown",
   "metadata": {},
   "source": [
    "The model summary contains a lot of detailed information, but we can create a more concise report of the results by extracting the results of interest e.g. the r2 value, the F-statistic and its p value:"
   ]
  },
  {
   "cell_type": "code",
   "execution_count": null,
   "metadata": {},
   "outputs": [],
   "source": [
    "print(\"Simple linear regression: Survival_time~Tumour_size\")\n",
    "print(\"r2 = {}\".format(simple_results.rsquared))\n",
    "print(\"F-statistic = {}\".format(simple_results.fvalue))\n",
    "print(\"F-statistic p value= {}\".format(simple_results.f_pvalue))"
   ]
  },
  {
   "cell_type": "markdown",
   "metadata": {},
   "source": [
    "After fitting a linear regression model, we usually want to carry out some basic checks of the model characteristics. This is because linear regression makes some assumptions about the data and our model, and if the data that we have fitted our model to has violated these assumptions, then the predictions from the model may not be reliable. We will not cover these checks in this session as they are beyond the scope of the course, but if you want information on how to do this then please see the [statsmodels documentation](https://www.statsmodels.org/stable/index.html)."
   ]
  },
  {
   "cell_type": "markdown",
   "metadata": {},
   "source": [
    "If we are happy with the checks of model characteristics, we can use the model to predict what the value of our response variable will be, given a certain value for the predictor variable. We do this using the `predict()` method of the results object, which takes the value of the predictor variable as the argument:"
   ]
  },
  {
   "cell_type": "code",
   "execution_count": null,
   "metadata": {},
   "outputs": [],
   "source": [
    "simple_results.predict({\"Tumour_size\": 125})"
   ]
  },
  {
   "cell_type": "markdown",
   "metadata": {},
   "source": [
    "Our model predicts a survival time of 8.6 for a tumour size of 125; however, the low r2 value for this model (r2=0.053) indicates that it fits the data very poorly, so we may not be very confident in this prediction."
   ]
  },
  {
   "cell_type": "markdown",
   "metadata": {},
   "source": [
    "## Multivariate linear regression\n",
    "When we are analysing more complex processes, we often need to consider the influence of multiple predictors simultaneously. One way to do this is by using multivariate linear regression, which models the relationship between the response and two or more predictors. For example, we may wish to model the effect on survival time of tumour size, tumour stage, cancer type and ER status. To do this we repeat the simple regression process described above, but specify multiple predictors when instantiating the model. When viewing the results, we extract the `pvalues` attribute of the results object to print the p values associated with each predictor:"
   ]
  },
  {
   "cell_type": "code",
   "execution_count": null,
   "metadata": {},
   "outputs": [],
   "source": [
    "# instantiate model\n",
    "complex_model = ols(\"Survival_time~Tumour_size + Tumour_stage + Cancer_type + ER_status\", data=metabric)\n",
    "# fit the model\n",
    "complex_results = complex_model.fit()\n",
    "# print the results of interest\n",
    "print(\"Complex linear regression: Survival_time~Tumour_size + Tumour_stage + Cancer_type + ER_status\")\n",
    "print(\"r2 = {}\".format(complex_results.rsquared))\n",
    "print(\"F-statistic = {}\".format(complex_results.fvalue))\n",
    "print(\"F-statistic p value= {}\".format(complex_results.f_pvalue))\n",
    "print(\"p values for each predictor:\")\n",
    "print(complex_results.pvalues)"
   ]
  },
  {
   "cell_type": "code",
   "execution_count": null,
   "metadata": {},
   "outputs": [],
   "source": [
    "complex_results.summary()"
   ]
  }
 ],
 "metadata": {
  "interpreter": {
   "hash": "03b5de4342d12f63398c17f4fe4cb032ff67035882e35a656212d40f64756279"
  },
  "kernelspec": {
   "display_name": "Python 3.9.13 ('.venv': venv)",
   "language": "python",
   "name": "python3"
  },
  "language_info": {
   "codemirror_mode": {
    "name": "ipython",
    "version": 3
   },
   "file_extension": ".py",
   "mimetype": "text/x-python",
   "name": "python",
   "nbconvert_exporter": "python",
   "pygments_lexer": "ipython3",
   "version": "3.9.13"
  },
  "orig_nbformat": 4
 },
 "nbformat": 4,
 "nbformat_minor": 2
}
