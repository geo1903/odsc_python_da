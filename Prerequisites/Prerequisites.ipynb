{
 "cells": [
  {
   "cell_type": "markdown",
   "metadata": {},
   "source": [
    "# Tutorial prerequisites\n",
    "\n",
    "### Python and Jupyter\n",
    "\n",
    "**Python** is a general purpose programming language that is useful for writing scripts to work effectively and reproducibly with data. It was initially created by Guido van Rossum in 1991. Python is widely used in data science, bioinformatics and scientific computing, both in academia and industry. \n",
    "\n",
    "It is available in all popular operating systems (Mac, Windows and Linux). The default Python installation comes with \"batteries included\" and the standard library (some of which we will see in this course) provides built-in support for lots of common tasks e.g. numerical & mathematical functions, interacting with files and the operating system ... There is also a wide range of external libraries for areas not covered in the standard library, such as *pandas* (the Python ANalysis DAta Library).\n",
    "\n",
    "**Jupyter** is a nonprofit organization created to \"develop open-source software, open-standards, and services for interactive computing across dozens of programming languages\". Jupyter supports execution environments and has developed and supported the interactive computing products e.g. Jupyter Notebook, which we will be using during this course. \n",
    "\n",
    "The Jupyter Notebook is a web application that allows you to create and share documents that contain live code, equations, interactive data visualizations and explanatory text.\n",
    "\n",
    "**How to run Python?** Python is an interpreted language, this means that your computer does not run Python code natively, but instead we run our code using the Python interpreter. There are three ways in which you can run Python code:\n",
    "\n",
    "- Directly typing commands into the interpreter: good for experimenting with the language, and for some interactive work e.g. using the command line and/or IPython\n",
    "- Using a Jupyter Notebook: great for experimenting with the language, as well as for sharing and learning\n",
    "- Typing code into a file and then telling the interpreter to run the code from this file: good for larger scripts, and when you want to run the same code repeatedly\n",
    "\n",
    "\n",
    "\n",
    "# Installations\n",
    "\n",
    "Before starting this tutorial, you need to have Python3 and Jupyter installed on your computer. If you do not have these installed already, we recommend following the instructions below:\n",
    "\n",
    "\n",
    "1. Python installations for all platforms can be found [here](https://www.python.org/downloads/windows/). Select the file that is compatible with your system and follow the instructions given (if at any point you are asked to install *pip* with your Python installation please do so).\n",
    "\n",
    "**Please make sure to download a version of Python that starts with 2.*.*. and also nothing more recent than 3.9.* (most of the libraries are not yet fully compatible with python versions more recent than 3.9.*)**\n",
    "\n",
    "If you are on Windows:\n",
    "    \n",
    "2. Once Python is installed in your system, check that Python is installed and in your PATH (a   collection of locations that you can call from whichever location you are in your computer) by:\n",
    "\n",
    "    1. Typing \"cmd\" on your Windows search bar and open the \"Comand Prompt\" of Windows or open the Temrinal if you are on Mac/Linux\n",
    "    2. Type `python` (sometimes `python3` might be needed) and Python should open on your command prompt\n",
    "    3. Type either `quit()` or press Cntrl+d to exit <br/><br/>\n",
    "\n",
    "\n",
    "3. Once you are back to the command prompt and exited Python, you will create what is called a *virtual envirnment*; a \"clean and secure\" environment to be used for the purposes of this tutorial. To create the environment please follow the following steps:\n",
    "\n",
    "    1. Download the material of the turotial and be sure to be on that folder on your terminal/comand prompt\n",
    "    2. Type `python -m venv venv` (or `python3` if that works for you).\n",
    "    3. Then activate the environment by typing `source venv/bin/activate`\n",
    "\n",
    "4. Finally install all the required packages we need for this tutorial by running the following:\n",
    "`pip install numpy scipy matplotlib pandas plotnine notebook`\n",
    "\n",
    "5. Once all the necessary packages have been installed, you need to open Jupyter. The quickest way to open a Jupyer notebook kernel is to type on the terminal/comand prompt `python -m notebook`. And you are off to start :)\n",
    "\n",
    "If any help is needed to complkete the above steps, please reach out to me on leosouliotis@gmail.com, stating the name \"ODSC\" in the email title.\n"
   ]
  },
  {
   "cell_type": "markdown",
   "metadata": {},
   "source": []
  }
 ],
 "metadata": {
  "celltoolbar": "Raw Cell Format",
  "kernelspec": {
   "display_name": "Python 3 (ipykernel)",
   "language": "python",
   "name": "python3"
  },
  "language_info": {
   "codemirror_mode": {
    "name": "ipython",
    "version": 3
   },
   "file_extension": ".py",
   "mimetype": "text/x-python",
   "name": "python",
   "nbconvert_exporter": "python",
   "pygments_lexer": "ipython3",
   "version": "3.9.13"
  }
 },
 "nbformat": 4,
 "nbformat_minor": 4
}
